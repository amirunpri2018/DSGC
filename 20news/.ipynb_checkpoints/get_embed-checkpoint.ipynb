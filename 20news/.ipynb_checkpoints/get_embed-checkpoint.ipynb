{
 "cells": [
  {
   "cell_type": "code",
   "execution_count": 1,
   "metadata": {
    "collapsed": true
   },
   "outputs": [],
   "source": [
    "from sklearn.datasets import fetch_20newsgroups\n",
    "newsgroups_train = fetch_20newsgroups(subset='train')\n",
    "newsgroups_test = fetch_20newsgroups(subset='test')"
   ]
  },
  {
   "cell_type": "code",
   "execution_count": 3,
   "metadata": {
    "collapsed": true
   },
   "outputs": [],
   "source": [
    "documents = newsgroups_train.data\n",
    "sentences = [];\n",
    "for doc in documents:\n",
    "    sentences += doc.split();"
   ]
  },
  {
   "cell_type": "code",
   "execution_count": 24,
   "metadata": {},
   "outputs": [],
   "source": [
    "import gensim\n",
    "class Sentences(object):\n",
    "    def __init__(self, documents):\n",
    "        self.documents = documents\n",
    "    def __iter__(self):\n",
    "        for document in self.documents:\n",
    "            yield document.split()\n",
    "model = gensim.models.Word2Vec(Sentences(documents), 300, workers = 10)"
   ]
  },
  {
   "cell_type": "code",
   "execution_count": 27,
   "metadata": {},
   "outputs": [],
   "source": [
    "import numpy as np\n",
    "from sklearn.feature_extraction.text import TfidfVectorizer\n",
    "feature = 3000\n",
    "vectorizer = TfidfVectorizer(stop_words='english',max_features=feature)\n",
    "vectors_train = vectorizer.fit_transform(newsgroups_train.data).todense()\n",
    "vectors_test = vectorizer.transform(newsgroups_test.data).todense();\n",
    "np.savez('data/20news3000_new.npz', x_train=vectors_train, y_train = newsgroups_train.target, \n",
    "         x_test=vectors_test, y_test=newsgroups_test.target);"
   ]
  },
  {
   "cell_type": "code",
   "execution_count": null,
   "metadata": {
    "collapsed": true
   },
   "outputs": [],
   "source": [
    "vocabulary = vectorizer.vocabulary_\n",
    "embed = np.zeros((feature, 300));\n",
    "cnt = 0;\n",
    "for word in vocabulary:\n",
    "    if (word in model.wv.vocab):\n",
    "        embed[vocabulary[word]] = model[word];\n",
    "        cnt += 1;\n",
    "print(cnt);"
   ]
  }
 ],
 "metadata": {
  "kernelspec": {
   "display_name": "Python 2",
   "language": "python",
   "name": "python2"
  },
  "language_info": {
   "codemirror_mode": {
    "name": "ipython",
    "version": 2
   },
   "file_extension": ".py",
   "mimetype": "text/x-python",
   "name": "python",
   "nbconvert_exporter": "python",
   "pygments_lexer": "ipython2",
   "version": "2.7.12"
  }
 },
 "nbformat": 4,
 "nbformat_minor": 2
}
