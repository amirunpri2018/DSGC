{
 "cells": [
  {
   "cell_type": "code",
   "execution_count": 1,
   "metadata": {
    "collapsed": true
   },
   "outputs": [],
   "source": [
    "from sklearn.datasets import fetch_20newsgroups\n",
    "newsgroups_train = fetch_20newsgroups(subset='train')\n",
    "newsgroups_test = fetch_20newsgroups(subset='test')"
   ]
  },
  {
   "cell_type": "code",
   "execution_count": 3,
   "metadata": {},
   "outputs": [],
   "source": [
    "import re\n",
    "documents = newsgroups_train.data\n",
    "for i in range(len(documents)):\n",
    "    doc = documents[i];\n",
    "    doc = doc.replace('$', ' dollar ')\n",
    "    doc = doc.lower()\n",
    "    doc = re.sub('[^a-z]', ' ', doc)\n",
    "    doc = ' '.join(doc.split())\n",
    "    documents[i] = doc;"
   ]
  },
  {
   "cell_type": "code",
   "execution_count": 4,
   "metadata": {},
   "outputs": [
    {
     "name": "stderr",
     "output_type": "stream",
     "text": [
      "Using TensorFlow backend.\n"
     ]
    }
   ],
   "source": [
    "import gensim\n",
    "class Sentences(object):\n",
    "    def __init__(self, documents):\n",
    "        self.documents = documents\n",
    "    def __iter__(self):\n",
    "        for document in self.documents:\n",
    "            yield document.split()\n",
    "model = gensim.models.Word2Vec(Sentences(documents), 300, workers = 10)"
   ]
  },
  {
   "cell_type": "code",
   "execution_count": 5,
   "metadata": {},
   "outputs": [],
   "source": [
    "import numpy as np\n",
    "from sklearn.feature_extraction.text import TfidfVectorizer\n",
    "feature = 1000\n",
    "vectorizer = TfidfVectorizer(stop_words='english',max_features=feature)\n",
    "vectors_train = vectorizer.fit_transform(newsgroups_train.data).todense()\n",
    "vectors_test = vectorizer.transform(newsgroups_test.data).todense();\n",
    "np.savez('data/20news1000_new.npz', x_train=vectors_train, y_train = newsgroups_train.target, \n",
    "         x_test=vectors_test, y_test=newsgroups_test.target);"
   ]
  },
  {
   "cell_type": "code",
   "execution_count": 6,
   "metadata": {},
   "outputs": [
    {
     "name": "stdout",
     "output_type": "stream",
     "text": [
      "1000\n"
     ]
    }
   ],
   "source": [
    "vocabulary = vectorizer.vocabulary_\n",
    "embed = np.zeros((feature, 300));\n",
    "cnt = 0;\n",
    "for word in vocabulary:\n",
    "    if (word in model.wv.vocab):\n",
    "        embed[vocabulary[word]] = model[word];\n",
    "        cnt += 1;\n",
    "print(cnt);"
   ]
  },
  {
   "cell_type": "code",
   "execution_count": null,
   "metadata": {
    "collapsed": true
   },
   "outputs": [],
   "source": []
  }
 ],
 "metadata": {
  "kernelspec": {
   "display_name": "Python 2",
   "language": "python",
   "name": "python2"
  },
  "language_info": {
   "codemirror_mode": {
    "name": "ipython",
    "version": 2
   },
   "file_extension": ".py",
   "mimetype": "text/x-python",
   "name": "python",
   "nbconvert_exporter": "python",
   "pygments_lexer": "ipython2",
   "version": "2.7.12"
  }
 },
 "nbformat": 4,
 "nbformat_minor": 2
}
